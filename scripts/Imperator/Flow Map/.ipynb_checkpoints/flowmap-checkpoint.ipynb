{
 "cells": [
  {
   "cell_type": "markdown",
   "metadata": {},
   "source": [
    "# Flowmap generator"
   ]
  },
  {
   "cell_type": "code",
   "execution_count": null,
   "metadata": {},
   "outputs": [],
   "source": [
    "import numpy as np\n",
    "from PIL import Image\n",
    "from tqdm.notebook import tqdm\n",
    "from joblib import Parallel, delayed\n",
    "Image.MAX_IMAGE_PIXELS = None"
   ]
  },
  {
   "cell_type": "code",
   "execution_count": null,
   "metadata": {},
   "outputs": [],
   "source": [
    "# Load black-LAND (RGB 0,0,0) and white-SEA (RGB 255 255 255) image in grayscale mode\n",
    "im = Image.open(r\"input files/heightmap.png\",\"r\").convert('L')#.crop((0,0,400,200))\n",
    "display(im)"
   ]
  },
  {
   "cell_type": "code",
   "execution_count": null,
   "metadata": {},
   "outputs": [],
   "source": [
    "def findNearest(targets, x0, y0):\n",
    "    distances = np.sqrt((targets[:,0] - y0) ** 2 + (targets[:,1] - x0) ** 2)\n",
    "    nearest = np.argsort(distances)[:]\n",
    "    weights = np.divide(1, distances[nearest]**3)\n",
    "    y, x = int(np.average(targets[nearest,0], weights=weights)), int(np.average(targets[nearest,1], weights=weights))\n",
    "    return np.sqrt((x-x0)**2+(y-y0)**2), y, x\n",
    "    #return distances[nearest[0]], y, x\n",
    "    \n",
    "\n",
    "def colorGradient(component, radius, maxRadius, gradientType, lowerRadius=2):\n",
    "    if gradientType=='lineal':\n",
    "        temp = min((maxRadius-radius)/maxRadius, 0.4)\n",
    "    elif gradientType=='exponential':\n",
    "        temp = -np.log(1/100)/(maxRadius-1)\n",
    "        temp = np.exp(-temp*(radius-1))\n",
    "\n",
    "    elif gradientType=='both':\n",
    "        if radius<=lowerRadius:\n",
    "            temp = (maxRadius-1)/maxRadius\n",
    "        else:\n",
    "            temp = -np.log(1/150)/(maxRadius-1)\n",
    "            temp = (maxRadius-1)/maxRadius*np.exp(-temp*(radius-lowerRadius))\n",
    "    else: raise ValueError('Wrong gradient type introduced')\n",
    "\n",
    "    return int(round(component*127*temp+128))\n",
    "\n",
    "def inner_loop(x0, imData, imData2, white, seaRadius, landRadius, lowerRadius):\n",
    "    temp = []\n",
    "\n",
    "    for y0 in range(im.height):\n",
    "        \n",
    "        #SEA\n",
    "        if im.getpixel((x0,y0))==white:\n",
    "            xlim = [max(0, x0-seaRadius), min(im.width-1, x0+seaRadius)]\n",
    "            ximData = imData[(imData[:,1]>=xlim[0]) & (imData[:,1]<=xlim[1])]\n",
    "            ximData2 = imData2[(imData2[:,1]>=xlim[0]) & (imData2[:,1]<=xlim[1])]\n",
    "            ylim = [max(0, y0-seaRadius), min(im.height-1, y0+seaRadius)]\n",
    "            xyimData = ximData[(ximData[:,0]>=ylim[0]) & (ximData[:,0]<=ylim[1])]\n",
    "            if len(xyimData)==0: \n",
    "                temp.append([x0,y0,128,128,255])\n",
    "                continue\n",
    "            radius, y, x = findNearest(xyimData, x0, y0)\n",
    "            if radius>seaRadius or radius==0:\n",
    "                temp.append([x0,y0,128,128,255])\n",
    "                continue\n",
    "\n",
    "            xdist, ydist = (x-x0)/radius, (y0-y)/radius\n",
    "            red = colorGradient(xdist, radius, seaRadius, gradientType='both', lowerRadius=lowerRadius)\n",
    "            green = colorGradient(ydist, radius, seaRadius, gradientType='both', lowerRadius=lowerRadius)\n",
    "            blue = int(round(128+127*radius/seaRadius))\n",
    "            temp.append([x0,y0,red,green,blue])\n",
    "\n",
    "        #LAND\n",
    "        else:\n",
    "            xlim = [max(0, x0-landRadius), min(im.width-1, x0+landRadius)]\n",
    "            ximData = imData[(imData[:,1]>=xlim[0]) & (imData[:,1]<=xlim[1])]\n",
    "            ximData2 = imData2[(imData2[:,1]>=xlim[0]) & (imData2[:,1]<=xlim[1])]\n",
    "            ylim = [max(0, y0-landRadius), min(im.height-1, y0+landRadius)]\n",
    "            xyimData2 = ximData2[(ximData2[:,0]>=ylim[0]) & (ximData2[:,0]<=ylim[1])]\n",
    "            if len(xyimData2)==0: \n",
    "                temp.append([x0,y0,128,128,255])\n",
    "                continue\n",
    "            radius, y, x = findNearest(xyimData2, x0, y0)\n",
    "            if radius>landRadius or radius==0:\n",
    "                temp.append([x0,y0,128,128,255])\n",
    "                continue\n",
    "\n",
    "            xdist, ydist = (x-x0)/radius, (y0-y)/radius\n",
    "            red = colorGradient(xdist, radius, landRadius, gradientType='lineal')\n",
    "            green = colorGradient(ydist, radius, landRadius, gradientType='lineal')\n",
    "            blue = int(round(128+127*radius/landRadius))\n",
    "            temp.append([x0,y0,red,green,blue])\n",
    "    return temp"
   ]
  },
  {
   "cell_type": "code",
   "execution_count": null,
   "metadata": {},
   "outputs": [],
   "source": [
    "#### USER PARAMETERS\n",
    "# Controls the size of all the colored land/sea area near the coast, in pixels\n",
    "seaRadius = 1\n",
    "landRadius = 20\n",
    "\n",
    "# Controls the size of the strip of \"strongly\" colored area in the sea near the coast, in pixels\n",
    "lowerRadius = 2\n",
    "#### USER PARAMETERS\n",
    "# If your heightmap is like ck3 in terms of pixel density, good values are 40 and 2-4\n",
    "# If your heightmap has 4 times less pixel density like in A Broken World, good values are 20 and 1-2"
   ]
  },
  {
   "cell_type": "code",
   "execution_count": null,
   "metadata": {},
   "outputs": [],
   "source": [
    "gradientType = 'both'\n",
    "black, white, blue = 0, 255, 255\n",
    "flowmap = Image.new('RGB',im.size)\n",
    "\n",
    "imData = np.argwhere(np.array(im) == black)\n",
    "imData2 = np.argwhere(np.array(im) == white)\n",
    "\n",
    "result = Parallel(n_jobs=-2)(delayed(inner_loop)(x0, imData, imData2, white, seaRadius, landRadius, lowerRadius) for x0 in tqdm(range(im.width)))\n",
    "\n",
    "for x0 in result:\n",
    "    for elem in x0:\n",
    "        flowmap.putpixel((elem[0], elem[1]), (elem[2], elem[3], elem[4]))\n",
    "\n",
    "flowmap.save('output files/flowmap.png')\n",
    "display(flowmap)"
   ]
  }
 ],
 "metadata": {
  "kernelspec": {
   "display_name": "Python 3 (ipykernel)",
   "language": "python",
   "name": "python3"
  },
  "language_info": {
   "codemirror_mode": {
    "name": "ipython",
    "version": 3
   },
   "file_extension": ".py",
   "mimetype": "text/x-python",
   "name": "python",
   "nbconvert_exporter": "python",
   "pygments_lexer": "ipython3",
   "version": "3.10.4"
  },
  "metadata": {
   "interpreter": {
    "hash": "334db4cc05ce238ca1a7019a643678253efa18870d623550a72f43be86b1c78d"
   }
  },
  "vscode": {
   "interpreter": {
    "hash": "9b22d928f5973cd7159b3034ea5d87b106ec4962028224788a5749e890f75777"
   }
  }
 },
 "nbformat": 4,
 "nbformat_minor": 2
}
